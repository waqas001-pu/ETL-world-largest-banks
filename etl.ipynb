{
 "cells": [
  {
   "cell_type": "code",
   "execution_count": 1,
   "metadata": {},
   "outputs": [],
   "source": [
    "from bs4 import BeautifulSoup\n",
    "import requests\n",
    "import pandas as pd\n",
    "import numpy as np\n",
    "import sqlite3\n",
    "from datetime import datetime "
   ]
  },
  {
   "cell_type": "code",
   "execution_count": 2,
   "id": "aec9c1c1",
   "metadata": {},
   "outputs": [],
   "source": [
    "def log_progress(message):\n",
    "    ''' This function logs the mentioned message at a given stage of the \n",
    "    code execution to a log file. Function returns nothing.'''\n",
    "    \n",
    "    timestamp_format = '%Y-%h-%d-%H:%M:%S' \n",
    "    now = datetime.now() \n",
    "    timestamp = now.strftime(timestamp_format) \n",
    "    with open(\"./code_log.txt\",\"a\") as f: \n",
    "        f.write(timestamp + ' : ' + message + '\\n')"
   ]
  },
  {
   "cell_type": "code",
   "execution_count": null,
   "id": "a85166bc",
   "metadata": {},
   "outputs": [],
   "source": [
    "\n",
    "def extract(url,tables_attributes):\n",
    "    \n",
    "    response = requests.get(url).text\n",
    "    \n",
    "    soup = BeautifulSoup(response, 'lxml')\n",
    "\n",
    "    table = soup.find_all('tbody')[0]\n",
    "\n",
    "    rows = table.find_all('tr')\n",
    "    \n",
    "    bank_names=[]\n",
    "    market_caps=[]\n",
    "    \n",
    "    for row in rows[1:]:   \n",
    "        col = row.find_all('td')\n",
    "        if len(col) >= 3:\n",
    "            bank_name = col[1].find_all('a')[1]['title']\n",
    "            market_cap = float(col[2].contents[0][:-1])\n",
    "            bank_names.append(bank_name)\n",
    "            market_caps.append(market_cap)\n",
    "\n",
    "    df=pd.DataFrame({tables_attributes[0]:bank_names,tables_attributes[1]:market_caps})\n",
    "    df.rename(columns={tables_attributes[1]: 'MC_USD_Billion'}, inplace=True)\n",
    "    return df"
   ]
  },
  {
   "cell_type": "code",
   "execution_count": 4,
   "id": "74e6918a",
   "metadata": {},
   "outputs": [],
   "source": [
    "def transform(df, exchange_rate_csv):\n",
    "\n",
    "    exchange_df = pd.read_csv(exchange_rate_csv)\n",
    "\n",
    "    exchange_rate = exchange_df.set_index('Currency').to_dict()['Rate']\n",
    "\n",
    "    df['MC_GBP_Billion'] = [np.round(x * exchange_rate['GBP'], 2) for x in df['MC_USD_Billion']]\n",
    "    df['MC_EUR_Billion'] = [np.round(x * exchange_rate['EUR'], 2) for x in df['MC_USD_Billion']]\n",
    "    df['MC_INR_Billion'] = [np.round(x * exchange_rate['INR'], 2) for x in df['MC_USD_Billion']]\n",
    "\n",
    "    return df\n",
    "\n"
   ]
  },
  {
   "cell_type": "code",
   "execution_count": 5,
   "id": "39cbce1e",
   "metadata": {},
   "outputs": [],
   "source": [
    "def load_to_csv(df,csv_path):\n",
    "    df.to_csv(csv_path, index=False)\n",
    "\n"
   ]
  },
  {
   "cell_type": "code",
   "execution_count": 6,
   "id": "e1af9a5c",
   "metadata": {},
   "outputs": [],
   "source": [
    "def load_to_db(df, sql_connection, table_name):\n",
    "    df.to_sql(table_name, sql_connection, if_exists='replace', index=False)\n",
    "    \n",
    "\n"
   ]
  },
  {
   "cell_type": "code",
   "execution_count": 7,
   "id": "9812bad8",
   "metadata": {},
   "outputs": [],
   "source": [
    "def run_query(query_statement, sql_connection):\n",
    "        query_output = pd.read_sql(query_statement, sql_connection)\n",
    "        print(query_output)\n"
   ]
  },
  {
   "cell_type": "code",
   "execution_count": 10,
   "id": "ff26817b",
   "metadata": {},
   "outputs": [
    {
     "name": "stdout",
     "output_type": "stream",
     "text": [
      "                                 Bank_Name  MC_USD_Billion\n",
      "0                           JPMorgan Chase          432.92\n",
      "1                          Bank of America          231.52\n",
      "2  Industrial and Commercial Bank of China          194.56\n",
      "3               Agricultural Bank of China          160.68\n",
      "4                                HDFC Bank          157.91\n",
      "5                              Wells Fargo          155.87\n",
      "6                                     HSBC          148.90\n",
      "7                           Morgan Stanley          140.83\n",
      "8                  China Construction Bank          139.82\n",
      "9                            Bank of China          136.81\n",
      "                                 Bank_Name  MC_USD_Billion  MC_GBP_Billion  \\\n",
      "0                           JPMorgan Chase          432.92          346.34   \n",
      "1                          Bank of America          231.52          185.22   \n",
      "2  Industrial and Commercial Bank of China          194.56          155.65   \n",
      "3               Agricultural Bank of China          160.68          128.54   \n",
      "4                                HDFC Bank          157.91          126.33   \n",
      "5                              Wells Fargo          155.87          124.70   \n",
      "6                                     HSBC          148.90          119.12   \n",
      "7                           Morgan Stanley          140.83          112.66   \n",
      "8                  China Construction Bank          139.82          111.86   \n",
      "9                            Bank of China          136.81          109.45   \n",
      "\n",
      "   MC_EUR_Billion  MC_INR_Billion  \n",
      "0          402.62        35910.71  \n",
      "1          215.31        19204.58  \n",
      "2          180.94        16138.75  \n",
      "3          149.43        13328.41  \n",
      "4          146.86        13098.63  \n",
      "5          144.96        12929.42  \n",
      "6          138.48        12351.26  \n",
      "7          130.97        11681.85  \n",
      "8          130.03        11598.07  \n",
      "9          127.23        11348.39  \n",
      "   AVG(MC_GBP_Billion)\n",
      "0              151.987\n",
      "                                 Bank_Name\n",
      "0                           JPMorgan Chase\n",
      "1                          Bank of America\n",
      "2  Industrial and Commercial Bank of China\n",
      "3               Agricultural Bank of China\n",
      "4                                HDFC Bank\n"
     ]
    }
   ],
   "source": [
    "url = \"https://web.archive.org/web/20230908091635/https://en.wikipedia.org/wiki/List_of_largest_banks\"\n",
    "tables_attributes = ['Bank_Name', 'Market_Cap_USD_Billion']\n",
    "db_name = 'Banks.db'\n",
    "table_name = 'Largest_banks'\n",
    "exchange_rate_csv = './exchange_rate.csv'\n",
    "csv_path = './Countries_by_GDP.csv'\n",
    "log_progress('Preliminaries complete. Initiating ETL process')\n",
    "df = extract(url, tables_attributes)\n",
    "log_progress('Data extraction complete. Initiating Transformation process')\n",
    "df = transform(df, exchange_rate_csv)\n",
    "log_progress('Data transformation complete. Initiating loading process')\n",
    "load_to_csv(df, csv_path)\n",
    "log_progress('Data saved to CSV file')\n",
    "sql_connection = sqlite3.connect('World_Economies.db')\n",
    "log_progress('SQL Connection initiated.')\n",
    "load_to_db(df, sql_connection, table_name)\n",
    "query_statement = f\"SELECT * FROM Largest_banks\"\n",
    "log_progress(f'Data loaded to Database as table. Running the query {query_statement}')\n",
    "run_query(query_statement, sql_connection)\n",
    "query_statement = f\"SELECT AVG(MC_GBP_Billion) FROM Largest_banks\"\n",
    "log_progress(f'Data loaded to Database as table. Running the query {query_statement}')\n",
    "run_query(query_statement, sql_connection)\n",
    "query_statement = f\"SELECT Bank_Name FROM Largest_banks LIMIT 5\"\n",
    "log_progress(f'Data loaded to Database as table. Running the query {query_statement}')\n",
    "run_query(query_statement, sql_connection)\n",
    "log_progress('Process Complete.')\n",
    "sql_connection.close()"
   ]
  },
  {
   "cell_type": "code",
   "execution_count": null,
   "id": "12e0950c",
   "metadata": {},
   "outputs": [],
   "source": []
  }
 ],
 "metadata": {
  "kernelspec": {
   "display_name": "Python 3",
   "language": "python",
   "name": "python3"
  },
  "language_info": {
   "codemirror_mode": {
    "name": "ipython",
    "version": 3
   },
   "file_extension": ".py",
   "mimetype": "text/x-python",
   "name": "python",
   "nbconvert_exporter": "python",
   "pygments_lexer": "ipython3",
   "version": "3.12.2"
  }
 },
 "nbformat": 4,
 "nbformat_minor": 5
}
